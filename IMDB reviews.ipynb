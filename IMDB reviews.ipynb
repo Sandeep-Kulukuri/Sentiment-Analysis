{
 "cells": [
  {
   "cell_type": "code",
   "execution_count": 1,
   "metadata": {},
   "outputs": [],
   "source": [
    "import tensorflow as tf\n",
    "from tensorflow import keras\n",
    "from tensorflow.keras import layers,Sequential\n",
    "import numpy as np\n",
    "import tensorflow_datasets as tfds\n",
    "import matplotlib.pyplot as plt\n",
    "import seaborn as sns"
   ]
  },
  {
   "cell_type": "code",
   "execution_count": 2,
   "metadata": {},
   "outputs": [],
   "source": [
    "(train_data,train_labels),(test_data,test_labels) = keras.datasets.imdb.load_data(num_words=10000)"
   ]
  },
  {
   "cell_type": "code",
   "execution_count": 3,
   "metadata": {},
   "outputs": [],
   "source": [
    "def multi_hot_sequences(sequences,dimension):\n",
    "    results = np.zeros((len(sequences),dimension))\n",
    "    for i , word_index in enumerate(sequences):\n",
    "        results[i,word_index] = 1.0\n",
    "    return results\n",
    "train_data = multi_hot_sequences(train_data,dimension=10000)\n",
    "test_data = multi_hot_sequences(test_data,dimension=10000)\n",
    "        "
   ]
  },
  {
   "cell_type": "code",
   "execution_count": 4,
   "metadata": {},
   "outputs": [
    {
     "data": {
      "text/plain": [
       "[<matplotlib.lines.Line2D at 0x169c127a648>]"
      ]
     },
     "execution_count": 4,
     "metadata": {},
     "output_type": "execute_result"
    },
    {
     "data": {
      "image/png": "[encoded data removed]",
      "text/plain": [
       "<Figure size 432x288 with 1 Axes>"
      ]
     },
     "metadata": {
      "needs_background": "light"
     },
     "output_type": "display_data"
    }
   ],
   "source": [
    "plt.plot(train_data[0])"
   ]
  },
  {
   "cell_type": "code",
   "execution_count": 5,
   "metadata": {},
   "outputs": [
    {
     "name": "stdout",
     "output_type": "stream",
     "text": [
      "Model: \"sequential\"\n",
      "_________________________________________________________________\n",
      "Layer (type)                 Output Shape              Param #   \n",
      "=================================================================\n",
      "dense (Dense)                (None, 16)                160016    \n",
      "_________________________________________________________________\n",
      "dense_1 (Dense)              (None, 16)                272       \n",
      "_________________________________________________________________\n",
      "dense_2 (Dense)              (None, 1)                 17        \n",
      "=================================================================\n",
      "Total params: 160,305\n",
      "Trainable params: 160,305\n",
      "Non-trainable params: 0\n",
      "_________________________________________________________________\n"
     ]
    }
   ],
   "source": [
    "baseline_model = Sequential([\n",
    "    layers.Dense(16,activation='relu',input_shape=(10000,)),\n",
    "    layers.Dense(16,activation='relu'),\n",
    "    layers.Dense(1,activation='sigmoid')\n",
    "])\n",
    "\n",
    "baseline_model.compile(optimizer='adam',loss='binary_crossentropy',metrics=['accuracy','binary_crossentropy'])\n",
    "\n",
    "baseline_model.summary()"
   ]
  },
  {
   "cell_type": "code",
   "execution_count": 6,
   "metadata": {},
   "outputs": [
    {
     "name": "stdout",
     "output_type": "stream",
     "text": [
      "Train on 25000 samples, validate on 25000 samples\n",
      "Epoch 1/20\n",
      "25000/25000 - 5s - loss: 0.5761 - accuracy: 0.6804 - binary_crossentropy: 0.5761 - val_loss: 0.4988 - val_accuracy: 0.8084 - val_binary_crossentropy: 0.4988\n",
      "Epoch 2/20\n",
      "25000/25000 - 4s - loss: 0.4373 - accuracy: 0.8877 - binary_crossentropy: 0.4373 - val_loss: 0.4531 - val_accuracy: 0.8517 - val_binary_crossentropy: 0.4531\n",
      "Epoch 3/20\n",
      "25000/25000 - 4s - loss: 0.3598 - accuracy: 0.9347 - binary_crossentropy: 0.3598 - val_loss: 0.4061 - val_accuracy: 0.8740 - val_binary_crossentropy: 0.4061\n",
      "Epoch 4/20\n",
      "25000/25000 - 4s - loss: 0.2392 - accuracy: 0.9551 - binary_crossentropy: 0.2392 - val_loss: 0.3189 - val_accuracy: 0.8807 - val_binary_crossentropy: 0.3189\n",
      "Epoch 5/20\n",
      "25000/25000 - 4s - loss: 0.1306 - accuracy: 0.9621 - binary_crossentropy: 0.1306 - val_loss: 0.3408 - val_accuracy: 0.8750 - val_binary_crossentropy: 0.3408\n",
      "Epoch 6/20\n",
      "25000/25000 - 4s - loss: 0.0823 - accuracy: 0.9800 - binary_crossentropy: 0.0823 - val_loss: 0.3732 - val_accuracy: 0.8713 - val_binary_crossentropy: 0.3732\n",
      "Epoch 7/20\n",
      "25000/25000 - 4s - loss: 0.0536 - accuracy: 0.9896 - binary_crossentropy: 0.0536 - val_loss: 0.4137 - val_accuracy: 0.8707 - val_binary_crossentropy: 0.4137\n",
      "Epoch 8/20\n",
      "25000/25000 - 4s - loss: 0.0355 - accuracy: 0.9944 - binary_crossentropy: 0.0355 - val_loss: 0.4578 - val_accuracy: 0.8709 - val_binary_crossentropy: 0.4578\n",
      "Epoch 9/20\n",
      "25000/25000 - 4s - loss: 0.0250 - accuracy: 0.9966 - binary_crossentropy: 0.0250 - val_loss: 0.4833 - val_accuracy: 0.8707 - val_binary_crossentropy: 0.4833\n",
      "Epoch 10/20\n",
      "25000/25000 - 4s - loss: 0.0187 - accuracy: 0.9976 - binary_crossentropy: 0.0187 - val_loss: 0.5083 - val_accuracy: 0.8687 - val_binary_crossentropy: 0.5083\n",
      "Epoch 11/20\n",
      "25000/25000 - 4s - loss: 0.0150 - accuracy: 0.9984 - binary_crossentropy: 0.0150 - val_loss: 0.5294 - val_accuracy: 0.8683 - val_binary_crossentropy: 0.5294\n",
      "Epoch 12/20\n",
      "25000/25000 - 4s - loss: 0.0123 - accuracy: 0.9985 - binary_crossentropy: 0.0123 - val_loss: 0.5607 - val_accuracy: 0.8690 - val_binary_crossentropy: 0.5607\n",
      "Epoch 13/20\n",
      "25000/25000 - 4s - loss: 0.0104 - accuracy: 0.9988 - binary_crossentropy: 0.0104 - val_loss: 0.5716 - val_accuracy: 0.8684 - val_binary_crossentropy: 0.5716\n",
      "Epoch 14/20\n",
      "25000/25000 - 4s - loss: 0.0088 - accuracy: 0.9988 - binary_crossentropy: 0.0088 - val_loss: 0.5919 - val_accuracy: 0.8679 - val_binary_crossentropy: 0.5919\n",
      "Epoch 15/20\n",
      "25000/25000 - 3s - loss: 0.0075 - accuracy: 0.9990 - binary_crossentropy: 0.0075 - val_loss: 0.6094 - val_accuracy: 0.8682 - val_binary_crossentropy: 0.6094\n",
      "Epoch 16/20\n",
      "25000/25000 - 3s - loss: 0.0065 - accuracy: 0.9991 - binary_crossentropy: 0.0065 - val_loss: 0.6309 - val_accuracy: 0.8676 - val_binary_crossentropy: 0.6309\n",
      "Epoch 17/20\n",
      "25000/25000 - 4s - loss: 0.0057 - accuracy: 0.9991 - binary_crossentropy: 0.0057 - val_loss: 0.6452 - val_accuracy: 0.8674 - val_binary_crossentropy: 0.6452\n",
      "Epoch 18/20\n",
      "25000/25000 - 4s - loss: 0.0049 - accuracy: 0.9991 - binary_crossentropy: 0.0049 - val_loss: 0.6559 - val_accuracy: 0.8676 - val_binary_crossentropy: 0.6559\n",
      "Epoch 19/20\n",
      "25000/25000 - 4s - loss: 0.0043 - accuracy: 0.9991 - binary_crossentropy: 0.0043 - val_loss: 0.6716 - val_accuracy: 0.8677 - val_binary_crossentropy: 0.6716\n",
      "Epoch 20/20\n",
      "25000/25000 - 4s - loss: 0.0037 - accuracy: 0.9991 - binary_crossentropy: 0.0037 - val_loss: 0.6847 - val_accuracy: 0.8674 - val_binary_crossentropy: 0.6847\n"
     ]
    }
   ],
   "source": [
    "baseline_history = baseline_model.fit(train_data,train_labels,epochs=20,\n",
    "                             validation_data=(test_data,test_labels),batch_size=512,verbose=2)"
   ]
  },
  {
   "cell_type": "code",
   "execution_count": 7,
   "metadata": {},
   "outputs": [
    {
     "name": "stdout",
     "output_type": "stream",
     "text": [
      "Model: \"sequential_1\"\n",
      "_________________________________________________________________\n",
      "Layer (type)                 Output Shape              Param #   \n",
      "=================================================================\n",
      "dense_3 (Dense)              (None, 4)                 40004     \n",
      "_________________________________________________________________\n",
      "dense_4 (Dense)              (None, 4)                 20        \n",
      "_________________________________________________________________\n",
      "dense_5 (Dense)              (None, 1)                 5         \n",
      "=================================================================\n",
      "Total params: 40,029\n",
      "Trainable params: 40,029\n",
      "Non-trainable params: 0\n",
      "_________________________________________________________________\n"
     ]
    }
   ],
   "source": [
    "smaller_model = Sequential([\n",
    "    layers.Dense(4,activation='relu',input_shape=(10000,)),\n",
    "    layers.Dense(4,activation='relu'),\n",
    "    layers.Dense(1,activation='sigmoid')\n",
    "])\n",
    "\n",
    "smaller_model.compile(optimizer='adam',loss='binary_crossentropy',metrics=['accuracy','binary_crossentropy'])\n",
    "\n",
    "smaller_model.summary()\n"
   ]
  },
  {
   "cell_type": "code",
   "execution_count": 8,
   "metadata": {},
   "outputs": [
    {
     "name": "stdout",
     "output_type": "stream",
     "text": [
      "Train on 25000 samples, validate on 25000 samples\n",
      "Epoch 1/20\n",
      "25000/25000 - 5s - loss: 0.5979 - accuracy: 0.7124 - binary_crossentropy: 0.5979 - val_loss: 0.4722 - val_accuracy: 0.8488 - val_binary_crossentropy: 0.4722\n",
      "Epoch 2/20\n",
      "25000/25000 - 3s - loss: 0.3735 - accuracy: 0.8876 - binary_crossentropy: 0.3735 - val_loss: 0.3503 - val_accuracy: 0.8816 - val_binary_crossentropy: 0.3503\n",
      "Epoch 3/20\n",
      "25000/25000 - 3s - loss: 0.2788 - accuracy: 0.9126 - binary_crossentropy: 0.2788 - val_loss: 0.3077 - val_accuracy: 0.8874 - val_binary_crossentropy: 0.3077\n",
      "Epoch 4/20\n",
      "25000/25000 - 3s - loss: 0.2312 - accuracy: 0.9266 - binary_crossentropy: 0.2312 - val_loss: 0.2900 - val_accuracy: 0.8886 - val_binary_crossentropy: 0.2900\n",
      "Epoch 5/20\n",
      "25000/25000 - 3s - loss: 0.2006 - accuracy: 0.9348 - binary_crossentropy: 0.2006 - val_loss: 0.2862 - val_accuracy: 0.8868 - val_binary_crossentropy: 0.2862\n",
      "Epoch 6/20\n",
      "25000/25000 - 3s - loss: 0.1780 - accuracy: 0.9426 - binary_crossentropy: 0.1780 - val_loss: 0.2844 - val_accuracy: 0.8858 - val_binary_crossentropy: 0.2844\n",
      "Epoch 7/20\n",
      "25000/25000 - 4s - loss: 0.1604 - accuracy: 0.9492 - binary_crossentropy: 0.1604 - val_loss: 0.2880 - val_accuracy: 0.8851 - val_binary_crossentropy: 0.2880\n",
      "Epoch 8/20\n",
      "25000/25000 - 3s - loss: 0.1458 - accuracy: 0.9548 - binary_crossentropy: 0.1458 - val_loss: 0.2958 - val_accuracy: 0.8828 - val_binary_crossentropy: 0.2958\n",
      "Epoch 9/20\n",
      "25000/25000 - 3s - loss: 0.1338 - accuracy: 0.9585 - binary_crossentropy: 0.1338 - val_loss: 0.3004 - val_accuracy: 0.8823 - val_binary_crossentropy: 0.3004\n",
      "Epoch 10/20\n",
      "25000/25000 - 4s - loss: 0.1228 - accuracy: 0.9622 - binary_crossentropy: 0.1228 - val_loss: 0.3105 - val_accuracy: 0.8792 - val_binary_crossentropy: 0.3105\n",
      "Epoch 11/20\n",
      "25000/25000 - 3s - loss: 0.1133 - accuracy: 0.9662 - binary_crossentropy: 0.1133 - val_loss: 0.3205 - val_accuracy: 0.8788 - val_binary_crossentropy: 0.3205\n",
      "Epoch 12/20\n",
      "25000/25000 - 4s - loss: 0.1056 - accuracy: 0.9689 - binary_crossentropy: 0.1056 - val_loss: 0.3315 - val_accuracy: 0.8755 - val_binary_crossentropy: 0.3315\n",
      "Epoch 13/20\n",
      "25000/25000 - 4s - loss: 0.0974 - accuracy: 0.9727 - binary_crossentropy: 0.0974 - val_loss: 0.3460 - val_accuracy: 0.8731 - val_binary_crossentropy: 0.3460\n",
      "Epoch 14/20\n",
      "25000/25000 - 4s - loss: 0.0904 - accuracy: 0.9749 - binary_crossentropy: 0.0904 - val_loss: 0.3571 - val_accuracy: 0.8719 - val_binary_crossentropy: 0.3571\n",
      "Epoch 15/20\n",
      "25000/25000 - 4s - loss: 0.0837 - accuracy: 0.9774 - binary_crossentropy: 0.0837 - val_loss: 0.3714 - val_accuracy: 0.8698 - val_binary_crossentropy: 0.3714\n",
      "Epoch 16/20\n",
      "25000/25000 - 4s - loss: 0.0776 - accuracy: 0.9805 - binary_crossentropy: 0.0776 - val_loss: 0.3847 - val_accuracy: 0.8699 - val_binary_crossentropy: 0.3847\n",
      "Epoch 17/20\n",
      "25000/25000 - 4s - loss: 0.0724 - accuracy: 0.9821 - binary_crossentropy: 0.0724 - val_loss: 0.3993 - val_accuracy: 0.8677 - val_binary_crossentropy: 0.3993\n",
      "Epoch 18/20\n",
      "25000/25000 - 3s - loss: 0.0671 - accuracy: 0.9845 - binary_crossentropy: 0.0671 - val_loss: 0.4168 - val_accuracy: 0.8654 - val_binary_crossentropy: 0.4168\n",
      "Epoch 19/20\n",
      "25000/25000 - 4s - loss: 0.0624 - accuracy: 0.9871 - binary_crossentropy: 0.0624 - val_loss: 0.4301 - val_accuracy: 0.8640 - val_binary_crossentropy: 0.4301\n",
      "Epoch 20/20\n",
      "25000/25000 - 4s - loss: 0.0577 - accuracy: 0.9884 - binary_crossentropy: 0.0577 - val_loss: 0.4469 - val_accuracy: 0.8627 - val_binary_crossentropy: 0.4469\n"
     ]
    }
   ],
   "source": [
    "smaller_history = smaller_model.fit(train_data,train_labels,epochs=20,\n",
    "                             validation_data=(test_data,test_labels),batch_size=512,verbose=2)"
   ]
  },
  {
   "cell_type": "code",
   "execution_count": 9,
   "metadata": {},
   "outputs": [
    {
     "name": "stdout",
     "output_type": "stream",
     "text": [
      "Model: \"sequential_2\"\n",
      "_________________________________________________________________\n",
      "Layer (type)                 Output Shape              Param #   \n",
      "=================================================================\n",
      "dense_6 (Dense)              (None, 512)               5120512   \n",
      "_________________________________________________________________\n",
      "dense_7 (Dense)              (None, 512)               262656    \n",
      "_________________________________________________________________\n",
      "dense_8 (Dense)              (None, 1)                 513       \n",
      "=================================================================\n",
      "Total params: 5,383,681\n",
      "Trainable params: 5,383,681\n",
      "Non-trainable params: 0\n",
      "_________________________________________________________________\n"
     ]
    }
   ],
   "source": [
    "bigger_model = Sequential([\n",
    "    layers.Dense(512,activation='relu',input_shape=(10000,)),\n",
    "    layers.Dense(512,activation='relu'),\n",
    "    layers.Dense(1,activation='sigmoid')\n",
    "])\n",
    "\n",
    "bigger_model.compile(optimizer='adam',loss='binary_crossentropy',metrics=['accuracy','binary_crossentropy'])\n",
    "\n",
    "bigger_model.summary()\n"
   ]
  },
  {
   "cell_type": "code",
   "execution_count": 10,
   "metadata": {},
   "outputs": [
    {
     "name": "stdout",
     "output_type": "stream",
     "text": [
      "Train on 25000 samples, validate on 25000 samples\n",
      "Epoch 1/20\n",
      "25000/25000 - 12s - loss: 0.3482 - accuracy: 0.8513 - binary_crossentropy: 0.3482 - val_loss: 0.3126 - val_accuracy: 0.8701 - val_binary_crossentropy: 0.3126\n",
      "Epoch 2/20\n",
      "25000/25000 - 10s - loss: 0.1443 - accuracy: 0.9474 - binary_crossentropy: 0.1443 - val_loss: 0.3271 - val_accuracy: 0.8758 - val_binary_crossentropy: 0.3271\n",
      "Epoch 3/20\n",
      "25000/25000 - 10s - loss: 0.0506 - accuracy: 0.9856 - binary_crossentropy: 0.0506 - val_loss: 0.4251 - val_accuracy: 0.8670 - val_binary_crossentropy: 0.4251\n",
      "Epoch 4/20\n",
      "25000/25000 - 10s - loss: 0.0108 - accuracy: 0.9978 - binary_crossentropy: 0.0108 - val_loss: 0.5604 - val_accuracy: 0.8657 - val_binary_crossentropy: 0.5604\n",
      "Epoch 5/20\n",
      "25000/25000 - 11s - loss: 0.0013 - accuracy: 1.0000 - binary_crossentropy: 0.0013 - val_loss: 0.6433 - val_accuracy: 0.8696 - val_binary_crossentropy: 0.6433\n",
      "Epoch 6/20\n",
      "25000/25000 - 10s - loss: 2.9823e-04 - accuracy: 1.0000 - binary_crossentropy: 2.9823e-04 - val_loss: 0.6904 - val_accuracy: 0.8690 - val_binary_crossentropy: 0.6904\n",
      "Epoch 7/20\n",
      "25000/25000 - 11s - loss: 1.7291e-04 - accuracy: 1.0000 - binary_crossentropy: 1.7291e-04 - val_loss: 0.7224 - val_accuracy: 0.8688 - val_binary_crossentropy: 0.7224\n",
      "Epoch 8/20\n",
      "25000/25000 - 10s - loss: 1.2195e-04 - accuracy: 1.0000 - binary_crossentropy: 1.2195e-04 - val_loss: 0.7468 - val_accuracy: 0.8687 - val_binary_crossentropy: 0.7468\n",
      "Epoch 9/20\n",
      "25000/25000 - 10s - loss: 9.1912e-05 - accuracy: 1.0000 - binary_crossentropy: 9.1912e-05 - val_loss: 0.7679 - val_accuracy: 0.8690 - val_binary_crossentropy: 0.7679\n",
      "Epoch 10/20\n",
      "25000/25000 - 10s - loss: 7.1864e-05 - accuracy: 1.0000 - binary_crossentropy: 7.1864e-05 - val_loss: 0.7864 - val_accuracy: 0.8688 - val_binary_crossentropy: 0.7864\n",
      "Epoch 11/20\n",
      "25000/25000 - 10s - loss: 5.7324e-05 - accuracy: 1.0000 - binary_crossentropy: 5.7324e-05 - val_loss: 0.8033 - val_accuracy: 0.8688 - val_binary_crossentropy: 0.8033\n",
      "Epoch 12/20\n",
      "25000/25000 - 10s - loss: 4.6618e-05 - accuracy: 1.0000 - binary_crossentropy: 4.6618e-05 - val_loss: 0.8188 - val_accuracy: 0.8687 - val_binary_crossentropy: 0.8188\n",
      "Epoch 13/20\n",
      "25000/25000 - 10s - loss: 3.8482e-05 - accuracy: 1.0000 - binary_crossentropy: 3.8482e-05 - val_loss: 0.8340 - val_accuracy: 0.8691 - val_binary_crossentropy: 0.8340\n",
      "Epoch 14/20\n",
      "25000/25000 - 10s - loss: 3.2124e-05 - accuracy: 1.0000 - binary_crossentropy: 3.2124e-05 - val_loss: 0.8484 - val_accuracy: 0.8690 - val_binary_crossentropy: 0.8484\n",
      "Epoch 15/20\n",
      "25000/25000 - 10s - loss: 2.7114e-05 - accuracy: 1.0000 - binary_crossentropy: 2.7114e-05 - val_loss: 0.8614 - val_accuracy: 0.8691 - val_binary_crossentropy: 0.8614\n",
      "Epoch 16/20\n",
      "25000/25000 - 10s - loss: 2.3118e-05 - accuracy: 1.0000 - binary_crossentropy: 2.3118e-05 - val_loss: 0.8739 - val_accuracy: 0.8691 - val_binary_crossentropy: 0.8739\n",
      "Epoch 17/20\n",
      "25000/25000 - 10s - loss: 1.9899e-05 - accuracy: 1.0000 - binary_crossentropy: 1.9899e-05 - val_loss: 0.8861 - val_accuracy: 0.8691 - val_binary_crossentropy: 0.8861\n",
      "Epoch 18/20\n",
      "25000/25000 - 11s - loss: 1.7237e-05 - accuracy: 1.0000 - binary_crossentropy: 1.7237e-05 - val_loss: 0.8977 - val_accuracy: 0.8690 - val_binary_crossentropy: 0.8977\n",
      "Epoch 19/20\n",
      "25000/25000 - 11s - loss: 1.5051e-05 - accuracy: 1.0000 - binary_crossentropy: 1.5051e-05 - val_loss: 0.9088 - val_accuracy: 0.8691 - val_binary_crossentropy: 0.9088\n",
      "Epoch 20/20\n",
      "25000/25000 - 11s - loss: 1.3244e-05 - accuracy: 1.0000 - binary_crossentropy: 1.3244e-05 - val_loss: 0.9195 - val_accuracy: 0.8691 - val_binary_crossentropy: 0.9195\n"
     ]
    }
   ],
   "source": [
    "bigger_history = bigger_model.fit(train_data,train_labels,epochs=20,\n",
    "                             validation_data=(test_data,test_labels),batch_size=512,verbose=2)"
   ]
  },
  {
   "cell_type": "code",
   "execution_count": 11,
   "metadata": {},
   "outputs": [
    {
     "name": "stdout",
     "output_type": "stream",
     "text": [
      "Train on 25000 samples, validate on 25000 samples\n",
      "Epoch 1/20\n",
      "25000/25000 - 5s - loss: 0.5633 - accuracy: 0.7698 - binary_crossentropy: 0.5486 - val_loss: 0.4211 - val_accuracy: 0.8672 - val_binary_crossentropy: 0.4068\n",
      "Epoch 2/20\n",
      "25000/25000 - 3s - loss: 0.3126 - accuracy: 0.9020 - binary_crossentropy: 0.2984 - val_loss: 0.3085 - val_accuracy: 0.8865 - val_binary_crossentropy: 0.2945\n",
      "Epoch 3/20\n",
      "25000/25000 - 4s - loss: 0.2197 - accuracy: 0.9291 - binary_crossentropy: 0.2057 - val_loss: 0.2977 - val_accuracy: 0.8877 - val_binary_crossentropy: 0.2837\n",
      "Epoch 4/20\n",
      "25000/25000 - 4s - loss: 0.1761 - accuracy: 0.9445 - binary_crossentropy: 0.1622 - val_loss: 0.3102 - val_accuracy: 0.8828 - val_binary_crossentropy: 0.2963\n",
      "Epoch 5/20\n",
      "25000/25000 - 4s - loss: 0.1469 - accuracy: 0.9558 - binary_crossentropy: 0.1330 - val_loss: 0.3325 - val_accuracy: 0.8790 - val_binary_crossentropy: 0.3186\n",
      "Epoch 6/20\n",
      "25000/25000 - 4s - loss: 0.1256 - accuracy: 0.9634 - binary_crossentropy: 0.1117 - val_loss: 0.3620 - val_accuracy: 0.8746 - val_binary_crossentropy: 0.3479\n",
      "Epoch 7/20\n",
      "25000/25000 - 4s - loss: 0.1077 - accuracy: 0.9723 - binary_crossentropy: 0.0936 - val_loss: 0.3944 - val_accuracy: 0.8699 - val_binary_crossentropy: 0.3801\n",
      "Epoch 8/20\n",
      "25000/25000 - 4s - loss: 0.0934 - accuracy: 0.9778 - binary_crossentropy: 0.0790 - val_loss: 0.4314 - val_accuracy: 0.8660 - val_binary_crossentropy: 0.4168\n",
      "Epoch 9/20\n",
      "25000/25000 - 4s - loss: 0.0810 - accuracy: 0.9830 - binary_crossentropy: 0.0663 - val_loss: 0.4633 - val_accuracy: 0.8637 - val_binary_crossentropy: 0.4484\n",
      "Epoch 10/20\n",
      "25000/25000 - 4s - loss: 0.0706 - accuracy: 0.9878 - binary_crossentropy: 0.0556 - val_loss: 0.5020 - val_accuracy: 0.8613 - val_binary_crossentropy: 0.4868\n",
      "Epoch 11/20\n",
      "25000/25000 - 4s - loss: 0.0618 - accuracy: 0.9910 - binary_crossentropy: 0.0465 - val_loss: 0.5385 - val_accuracy: 0.8599 - val_binary_crossentropy: 0.5230\n",
      "Epoch 12/20\n",
      "25000/25000 - 4s - loss: 0.0549 - accuracy: 0.9929 - binary_crossentropy: 0.0393 - val_loss: 0.5878 - val_accuracy: 0.8565 - val_binary_crossentropy: 0.5720\n",
      "Epoch 13/20\n",
      "25000/25000 - 4s - loss: 0.0490 - accuracy: 0.9945 - binary_crossentropy: 0.0332 - val_loss: 0.6206 - val_accuracy: 0.8564 - val_binary_crossentropy: 0.6047\n",
      "Epoch 14/20\n",
      "25000/25000 - 4s - loss: 0.0433 - accuracy: 0.9963 - binary_crossentropy: 0.0273 - val_loss: 0.6670 - val_accuracy: 0.8541 - val_binary_crossentropy: 0.6509\n",
      "Epoch 15/20\n",
      "25000/25000 - 4s - loss: 0.0391 - accuracy: 0.9976 - binary_crossentropy: 0.0230 - val_loss: 0.6917 - val_accuracy: 0.8534 - val_binary_crossentropy: 0.6755\n",
      "Epoch 16/20\n",
      "25000/25000 - 4s - loss: 0.0354 - accuracy: 0.9979 - binary_crossentropy: 0.0192 - val_loss: 0.7190 - val_accuracy: 0.8521 - val_binary_crossentropy: 0.7027\n",
      "Epoch 17/20\n",
      "25000/25000 - 4s - loss: 0.0324 - accuracy: 0.9986 - binary_crossentropy: 0.0163 - val_loss: 0.7468 - val_accuracy: 0.8520 - val_binary_crossentropy: 0.7307\n",
      "Epoch 18/20\n",
      "25000/25000 - 4s - loss: 0.0301 - accuracy: 0.9991 - binary_crossentropy: 0.0140 - val_loss: 0.7837 - val_accuracy: 0.8510 - val_binary_crossentropy: 0.7677\n",
      "Epoch 19/20\n",
      "25000/25000 - 4s - loss: 0.0280 - accuracy: 0.9992 - binary_crossentropy: 0.0121 - val_loss: 0.8029 - val_accuracy: 0.8510 - val_binary_crossentropy: 0.7871\n",
      "Epoch 20/20\n",
      "25000/25000 - 4s - loss: 0.0264 - accuracy: 0.9994 - binary_crossentropy: 0.0106 - val_loss: 0.8303 - val_accuracy: 0.8506 - val_binary_crossentropy: 0.8147\n"
     ]
    }
   ],
   "source": [
    "l2_model = Sequential([\n",
    "    layers.Dense(16,activation='relu',input_shape=(10000,)),\n",
    "    layers.Dense(16,kernel_regularizer=keras.regularizers.l2(0.001),activation='relu'),\n",
    "    layers.Dense(1,activation='sigmoid')\n",
    "])\n",
    "\n",
    "l2_model.compile(optimizer='adam',loss='binary_crossentropy',metrics=['accuracy','binary_crossentropy'])\n",
    "l2_history = l2_model.fit(train_data,train_labels,epochs=20,\n",
    "                             validation_data=(test_data,test_labels),batch_size=512,verbose=2)\n"
   ]
  },
  {
   "cell_type": "code",
   "execution_count": 12,
   "metadata": {},
   "outputs": [],
   "source": [
    "#RNN"
   ]
  },
  {
   "cell_type": "code",
   "execution_count": 13,
   "metadata": {},
   "outputs": [],
   "source": [
    "dataset, info = tfds.load('imdb_reviews/subwords8k', with_info=True,\n",
    "                          as_supervised=True)\n",
    "train_examples, test_examples = dataset['train'], dataset['test']"
   ]
  },
  {
   "cell_type": "code",
   "execution_count": 14,
   "metadata": {},
   "outputs": [],
   "source": [
    "encoder = info.features['text'].encoder"
   ]
  },
  {
   "cell_type": "code",
   "execution_count": 15,
   "metadata": {},
   "outputs": [
    {
     "name": "stdout",
     "output_type": "stream",
     "text": [
      "vocabulary size:8185\n"
     ]
    }
   ],
   "source": [
    "print('vocabulary size:{}'.format(encoder.vocab_size))"
   ]
  },
  {
   "cell_type": "code",
   "execution_count": 16,
   "metadata": {},
   "outputs": [],
   "source": [
    "train_dataset = (train_examples.shuffle(1000).padded_batch(64,padded_shapes=([None],[])))\n",
    "test_dataset = (test_examples.shuffle(1000).padded_batch(64,padded_shapes=([None],[])))"
   ]
  },
  {
   "cell_type": "code",
   "execution_count": null,
   "metadata": {},
   "outputs": [],
   "source": [
    "model = tf.keras.Sequential([\n",
    "    tf.keras.layers.Embedding(encoder.vocab_size,64),\n",
    "    tf.keras.layers.Bidirectional(tf.keras.layers.LSTM(64)),\n",
    "    tf.keras.layers.Dense(64,activation='relu'),\n",
    "    tf.keras.layers.Dense(1,activation='sigmoid')\n",
    "])\n",
    "\n",
    "model.compile(optimizer=tf.keras.optimizers.Adam(1e-4),\n",
    "              loss=tf.keras.losses.BinaryCrossentropy(from_logits=True),\n",
    "              metrics=['accuracy'])\n",
    "\n",
    "history=model.fit(train_dataset,epochs=1,validation_data = test_dataset,validation_steps=30,verbose=2)"
   ]
  },
  {
   "cell_type": "code",
   "execution_count": null,
   "metadata": {},
   "outputs": [],
   "source": []
  },
  {
   "cell_type": "code",
   "execution_count": null,
   "metadata": {},
   "outputs": [],
   "source": []
  }
 ],
 "metadata": {
  "kernelspec": {
   "display_name": "Python 3",
   "language": "python",
   "name": "python3"
  },
  "language_info": {
   "codemirror_mode": {
    "name": "ipython",
    "version": 3
   },
   "file_extension": ".py",
   "mimetype": "text/x-python",
   "name": "python",
   "nbconvert_exporter": "python",
   "pygments_lexer": "ipython3",
   "version": "3.7.4"
  }
 },
 "nbformat": 4,
 "nbformat_minor": 2
}
